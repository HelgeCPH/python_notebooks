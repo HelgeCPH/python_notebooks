{
 "cells": [
  {
   "cell_type": "markdown",
   "metadata": {},
   "source": [
    "# Python as your Swiss Army Knife \n",
    "## ...for data analysis, data processing, visualisation, web scraping, and system integration\n",
    "\n",
    "\n",
    "-----------------\n",
    "\n",
    "\n",
    "\n",
    "\n",
    "## What will you get?\n",
    "\n",
    "  * You will learn Python! \n",
    "  * A whirlwind tour through the language, the standard library, and many of the most common external modules.\n",
    "  \n",
    "  \n",
    "-----------------\n",
    "\n",
    "## What will we talk about & apply?\n",
    "  \n",
    "  * Python programming basic, functions, control structures, OO development, bit of functional programming, and the advantages/diadvantages of dynamic languages\n",
    "  * TDD with *Py.Test*\n",
    "  * *Numpy* & *Pandas* for data representation and processing\n",
    "  * *Matplotlib* and *Bokeh* for visualization\n",
    "  * *IPython* for documentation and collaboration\n",
    "  * Integration of CLI programs and C programs\n",
    "  * Building and distibuting your own packages\n",
    "  * Webscraping amongst others with *Beautifulsoup* and *Selenium*\n",
    "  * Image processing with *OpenCV*\n",
    "  * NLP with *NLTK*\n",
    "  * Building CLI applications with *docopt*\n",
    "  * A bit of *Flask*\n",
    "  * Regular Expressions\n",
    "  * *Multiprocessing*\n",
    "  * ... and many more!\n",
    "\n",
    "\n",
    "-----------------\n",
    "\n",
    "\n",
    "\n",
    "\n",
    "## Why does it matter?\n",
    "\n",
    "  * Quickly answering questions, i.e., data science.\n",
    "  * Give you tools for your further professional and educational careers.\n",
    "  * Build protoypes and glue systems effectively and efficiently.\n",
    "  \n",
    "**You will become a Mr./Mrs. Fixit!**\n",
    "https://www.youtube.com/watch?v=tC5RRUTHp_U  \n",
    "![](https://images.duckduckgo.com/iu/?u=https%3A%2F%2Fheavenlyjava.files.wordpress.com%2F2015%2F06%2Fimg_0665-1.png&f=1)\n",
    "\n",
    "\n",
    "\n",
    "Likely based on the following literature: \n",
    "\n",
    "  * http://greenteapress.com/thinkpython2/html/index.html\n",
    "  * https://automatetheboringstuff.com\n",
    "  * http://shop.oreilly.com/product/0636920033400.do\n",
    "  * http://shop.oreilly.com/product/0636920038375.do\n",
    "  * http://shop.oreilly.com/product/0636920023784.do\n",
    "  * http://shop.oreilly.com/product/0636920033424.do\n",
    "  \n",
    "  "
   ]
  },
  {
   "cell_type": "markdown",
   "metadata": {},
   "source": [
    "# Sneak Peek\n",
    "\n",
    "\n",
    "Imagine your boss in a marketing agency asks you if there is a relation between entry prices and start times for koncerts in Copenhagen so that the company can take a business decision.\n",
    "\n",
    "You do not know the answer. But hey, you are Mr./Mrs. Fixit.\n",
    "\n",
    "\n",
    "There is a web resource listing many concerts with additional information.\n",
    "http://www.kultunaut.com/perl/arrlist/type-nynaut/UK?Startnr=0&Area=Kbh.+og+Frederiksberg&ArrStartday=29&ArrStartmonth=September&ArrStartyear=2016&ArrSlutday=15&ArrSlutmonth=Oktober&ArrSlutyear=2016&Sprogtype=&ArrMaalgruppe=&DefaultGenre=Musik&ArrKunstner=\n",
    "\n",
    "\n",
    "After this course you will be able to find an answer to this and similar questions, for example, by writing a small web scraper and analysis tool."
   ]
  },
  {
   "cell_type": "code",
   "execution_count": 2,
   "metadata": {
    "collapsed": false
   },
   "outputs": [
    {
     "name": "stdout",
     "output_type": "stream",
     "text": [
      "Scraping 456 events...\n"
     ]
    }
   ],
   "source": [
    "import requests\n",
    "import bs4\n",
    "import re\n",
    "\n",
    "# there is a page with all events...\n",
    "# http://www.kultunaut.com/perl/arrlist/type-nynaut/UK?Startnr={0}&Area=Kbh.+og+Frederiksberg&ArrStartday=29&ArrStartmonth=September&ArrStartyear=2016&ArrSlutday=15&ArrSlutmonth=Oktober&ArrSlutyear=2016&Sprogtype=&ArrMaalgruppe=&DefaultGenre=Musik&ArrKunstner=\n",
    "base_url = \"http://www.kultunaut.com/perl/arrlist/type-nynaut/UK?Startnr={0}&Area=Kbh.+og+Frederiksberg\" \\\n",
    "           \"&ArrStartday=29&ArrStartmonth=September&ArrStartyear=2016&ArrSlutday=15&\" \\\n",
    "           \"ArrSlutmonth=Oktober&ArrSlutyear=2016&Sprogtype=&ArrMaalgruppe=&DefaultGenre=Musik&ArrKunstner=\"\n",
    "\n",
    "\n",
    "def scrape_no_events(url):\n",
    "    '''\n",
    "    Find amount of pages to parse from the entry html page\n",
    "    \n",
    "    returns:\n",
    "        An integer with the amount of events\n",
    "    '''\n",
    "    res = requests.get(base_url.format(0))\n",
    "    res.raise_for_status()\n",
    "    soup = bs4.BeautifulSoup(res.text, \"html.parser\")\n",
    "\n",
    "    tables = soup.findAll(\"table\")\n",
    "\n",
    "    # The second table of depth three holds the amount of events\n",
    "    depth3 = [t for t in tables if len(t.find_parents(\"table\")) == 3]\n",
    "    # The only bold element holds the amount of events\n",
    "    event_str = depth3[1].find_all('b')[0].text.splitlines()[0]\n",
    "\n",
    "    reg_exp = r\"Showing .+ of (?P<events>\\d+)\"\n",
    "    m = re.search(reg_exp, str(event_str))\n",
    "    no_events = int(m.group('events'))\n",
    "\n",
    "    return no_events\n",
    "\n",
    "no_events = scrape_no_events(base_url.format(0))\n",
    "print('Scraping {} events...'.format(no_events))"
   ]
  },
  {
   "cell_type": "code",
   "execution_count": 3,
   "metadata": {
    "collapsed": false,
    "scrolled": true
   },
   "outputs": [
    {
     "name": "stderr",
     "output_type": "stream",
     "text": [
      "100%|██████████| 23/23 [00:15<00:00,  1.47it/s]\n"
     ]
    }
   ],
   "source": [
    "from tqdm import tqdm\n",
    "\n",
    "    \n",
    "def scrape_events_per_page(url):\n",
    "    '''\n",
    "    returns:\n",
    "        A list of tuples of strings holding title, place, date, and price\n",
    "        for concerts in Copenhagen scraped from Kulturnaut.dk\n",
    "    '''\n",
    "    res = requests.get(url)\n",
    "    res.raise_for_status()\n",
    "    soup = bs4.BeautifulSoup(res.text, \"html.parser\")\n",
    "\n",
    "    event_cells = soup.find_all('td', {\"width\": \"100%\", \"valign\" : \"top\"})\n",
    "\n",
    "    scraped_events_per_page = []\n",
    "    for event_cell in event_cells:\n",
    "        try:\n",
    "            title = event_cell.find('b').text\n",
    "            spans = event_cell.find_all('span')\n",
    "            place = spans[1].text\n",
    "            try:\n",
    "                date, price = spans[0].text.splitlines()\n",
    "            except ValueError, e:\n",
    "                date = spans[0].text.splitlines()[0]\n",
    "                price = ''\n",
    "        except Exception, e:\n",
    "            print(e)\n",
    "            \n",
    "        scraped_events_per_page.append((title, place, date, price))\n",
    "        \n",
    "    return scraped_events_per_page\n",
    "\n",
    "\n",
    "scraped_events = []\n",
    "for idx in tqdm(range(0, no_events, 20)):\n",
    "    if idx > 0:\n",
    "        idx += 1\n",
    "\n",
    "    scrape_url = base_url.format(idx)\n",
    "    scraped_events += scrape_events_per_page(scrape_url)"
   ]
  },
  {
   "cell_type": "markdown",
   "metadata": {},
   "source": [
    "# What do we have so far?"
   ]
  },
  {
   "cell_type": "code",
   "execution_count": null,
   "metadata": {
    "collapsed": false,
    "scrolled": true
   },
   "outputs": [],
   "source": [
    "scraped_events"
   ]
  },
  {
   "cell_type": "markdown",
   "metadata": {},
   "source": [
    "# We extract dates and prices from strings."
   ]
  },
  {
   "cell_type": "code",
   "execution_count": 27,
   "metadata": {
    "collapsed": false
   },
   "outputs": [],
   "source": [
    "from dateparser import parse\n",
    "\n",
    "price_regexp = r\"(?P<price>\\d+)\"\n",
    "\n",
    "data_points = []\n",
    "# Cleanup the data\n",
    "# Get price as integer and date as date\n",
    "for event_data in scraped_events:\n",
    "    title_str, place_str, date_str, price_str = event_data\n",
    "    if 'Free admission' in price_str:\n",
    "        price = 0\n",
    "    else:\n",
    "        m = re.search(price_regexp, price_str)\n",
    "        try:\n",
    "            price = int(m.group('price'))\n",
    "        except:\n",
    "            price = 0\n",
    "\n",
    "    date_str = date_str.strip().strip('.')\n",
    "    if '&' in date_str:\n",
    "        date_str = date_str.split('&')[0]\n",
    "    if '-' in date_str:\n",
    "        date_str = date_str.split('-')[0]\n",
    "    if '.' in date_str:\n",
    "        date_str = date_str.replace('.', ':')\n",
    "\n",
    "    date = parse(date_str)\n",
    "    if date:\n",
    "        data_points.append((date, price))\n"
   ]
  },
  {
   "cell_type": "code",
   "execution_count": null,
   "metadata": {
    "collapsed": false
   },
   "outputs": [],
   "source": [
    "data_points"
   ]
  },
  {
   "cell_type": "markdown",
   "metadata": {},
   "source": [
    "# Plotting dates vs. times gives us a first feeling of a possible correlation."
   ]
  },
  {
   "cell_type": "code",
   "execution_count": 30,
   "metadata": {
    "collapsed": false
   },
   "outputs": [
    {
     "data": {
      "image/png": "[encoded data removed]",
      "text/plain": [
       "<matplotlib.figure.Figure at 0x111154c90>"
      ]
     },
     "metadata": {},
     "output_type": "display_data"
    }
   ],
   "source": [
    "%matplotlib inline \n",
    "\n",
    "import matplotlib\n",
    "import datetime\n",
    "import numpy as np\n",
    "import matplotlib.pyplot as plt\n",
    "\n",
    "x, y = zip(*data_points)\n",
    "ref_day = datetime.datetime.today()\n",
    "x = [ datetime.datetime.combine(ref_day, t.time()) for t in x ]\n",
    "\n",
    "# plot\n",
    "plt.plot(x, y, 'o')\n",
    "# beautify the x-labels\n",
    "plt.gcf().autofmt_xdate()\n",
    "\n",
    "plt.show()"
   ]
  },
  {
   "cell_type": "markdown",
   "metadata": {},
   "source": [
    "# Finally, some statistics to answer our boss' question."
   ]
  },
  {
   "cell_type": "code",
   "execution_count": 31,
   "metadata": {
    "collapsed": false
   },
   "outputs": [
    {
     "data": {
      "text/plain": [
       "(-0.070348079782865391, 0.13666171366285015)"
      ]
     },
     "execution_count": 31,
     "metadata": {},
     "output_type": "execute_result"
    }
   ],
   "source": [
    "from scipy.stats.stats import pearsonr\n",
    "\n",
    "x, y = zip(*data_points)\n",
    "x = matplotlib.dates.date2num(x)\n",
    "\n",
    "pearsonr(x, y)"
   ]
  },
  {
   "cell_type": "code",
   "execution_count": 32,
   "metadata": {
    "collapsed": false
   },
   "outputs": [
    {
     "data": {
      "text/plain": [
       "(0.013230207595647891, 0.83347981758573297)"
      ]
     },
     "execution_count": 32,
     "metadata": {},
     "output_type": "execute_result"
    }
   ],
   "source": [
    "data_points = [(date, price) for date, price in data_points if price > 0]\n",
    "\n",
    "x, y = zip(*data_points)\n",
    "x = matplotlib.dates.date2num(x)\n",
    "\n",
    "pearsonr(x, y)"
   ]
  },
  {
   "cell_type": "code",
   "execution_count": null,
   "metadata": {
    "collapsed": true
   },
   "outputs": [],
   "source": []
  }
 ],
 "metadata": {
  "kernelspec": {
   "display_name": "Python 2",
   "language": "python",
   "name": "python2"
  },
  "language_info": {
   "codemirror_mode": {
    "name": "ipython",
    "version": 2
   },
   "file_extension": ".py",
   "mimetype": "text/x-python",
   "name": "python",
   "nbconvert_exporter": "python",
   "pygments_lexer": "ipython2",
   "version": "2.7.12"
  }
 },
 "nbformat": 4,
 "nbformat_minor": 1
}
