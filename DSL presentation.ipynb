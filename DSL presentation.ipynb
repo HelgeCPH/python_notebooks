{
 "cells": [
  {
   "cell_type": "markdown",
   "metadata": {},
   "source": [
    "# Domain-specific Languages\n",
    "## ...and their applications for code generation and software modernisation\n",
    "\n",
    "\n",
    "-----------------\n",
    "\n",
    "\n",
    "\n",
    "\n",
    "## What will you get?\n",
    "\n",
    "  * You will learn how to write internal DSLs in Java and Groovy!\n",
    "  * That is, you will learn Groovy (http://groovy-lang.org), a powerful, optionally typed and dynamic language, with static-typing and static compilation capabilities, for the JVM.\n",
    "  * You will learn how to write external DSLs in Xtext \n",
    "  * You will learn how to write code generators and additional IDE tooling with Xtend (http://www.eclipse.org/xtend/), a flexible and expressive dialect of Java, which compiles into readable Java 5 compatible source code.\n",
    "  * You will learn how to write code refactorings in TXL.\n",
    "  \n",
    "  \n",
    "-----------------\n",
    "\n",
    "## What will we talk about & apply?\n",
    "  \n",
    "  * Why do we need DSLs at all and why do they matter?\n",
    "  * Internal vs. external DSLs.\n",
    "  * IDE tooling for your own language, including validation, syntax highlighting, etc.\n",
    "  * Code generation, let the computer do the laborious tasks.\n",
    "  * Raise abstraction, allow non-programmers to code.\n",
    "  * Having fun with abstract and meta-concepts.\n",
    "  \n",
    "\n",
    "-----------------\n",
    "\n",
    "\n",
    "\n",
    "\n",
    "## Why does it matter?\n",
    "\n",
    "  * Make programming accessible to non-programmer, i.e., domain-experts.\n",
    "  * Give you tools for your further professional careers.\n",
    "  * Build language protoypes and code generators quickly and easily.\n",
    "  \n",
    "**You will become a Mr./Mrs. Laguage Prototyper!**\n",
    "![](http://digibond.wpengine.netdna-cdn.com/wp-content/uploads/2014/04/picture1.png)\n",
    "\n",
    "\n",
    "\n",
    "Likely based on the following literature: \n",
    "\n",
    "  * https://www.manning.com/books/dsls-in-action\n",
    "  * https://www.packtpub.com/application-development/implementing-domain-specific-languages-xtext-and-xtend-second-edition\n",
    "  * http://research.cs.queensu.ca/~cordy/Papers/Cordy_TXL_LDTA04.pdf"
   ]
  },
  {
   "cell_type": "markdown",
   "metadata": {},
   "source": [
    "# Sneak Peek"
   ]
  },
  {
   "cell_type": "code",
   "execution_count": null,
   "metadata": {
    "collapsed": true
   },
   "outputs": [],
   "source": [
    "%%bash\n",
    "open /Applications/eclipse/dsl-neon/Eclipse.app/Contents/MacOS/eclipse\n",
    "\n"
   ]
  }
 ],
 "metadata": {
  "kernelspec": {
   "display_name": "Python 2",
   "language": "python",
   "name": "python2"
  },
  "language_info": {
   "codemirror_mode": {
    "name": "ipython",
    "version": 2
   },
   "file_extension": ".py",
   "mimetype": "text/x-python",
   "name": "python",
   "nbconvert_exporter": "python",
   "pygments_lexer": "ipython2",
   "version": "2.7.12"
  }
 },
 "nbformat": 4,
 "nbformat_minor": 1
}
